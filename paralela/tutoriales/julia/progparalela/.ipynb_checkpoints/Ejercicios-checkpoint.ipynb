{
 "cells": [
  {
   "cell_type": "markdown",
   "metadata": {},
   "source": [
    "# Ejercicios programación paralela\n",
    "\n",
    "Se proponen los siguientes ejercicios para la práctica de programación paralela usando Julia"
   ]
  },
  {
   "cell_type": "code",
   "execution_count": 1,
   "metadata": {
    "collapsed": false
   },
   "outputs": [
    {
     "data": {
      "text/plain": [
       "3-element Array{Int64,1}:\n",
       " 2\n",
       " 3\n",
       " 4"
      ]
     },
     "execution_count": 1,
     "metadata": {},
     "output_type": "execute_result"
    }
   ],
   "source": [
    "addprocs(3)"
   ]
  },
  {
   "cell_type": "markdown",
   "metadata": {},
   "source": [
    "## Ejercicio 1\n",
    "\n",
    "Hacer una [simulación de Monte Carlo](https://es.wikipedia.org/wiki/M%C3%A9todo_de_Montecarlo) en la cual se calcule el número $\\pi$. Se deben hacer cien millones de operaciones por worker.\n",
    "\n",
    "_Pista_\n",
    "<img src=\"MonteCarloPi.gif\" />\n",
    "\n",
    "__R/__\n",
    "\n",
    "Se inserta una circulo de radio $r$ en un cuadrado de lados $2r$. El área del circulo es de $\\pi r^2$ y el área del cuadrado es de $4r^2$. La probabilidad de que al soltar un alfiler de forma aleatoria sobre el cuadrado, este caiga dentro del circulo será el cociente entre el área del circulo y del cuadrado. Este cociente es igual a:\n",
    "\n",
    "$$\\frac{circulo}{cuadrado} = \\frac{\\pi r^2}{4 r^2} = \\frac{\\pi}{4}$$\n",
    "\n",
    "Siendo $N$ el número de agujas lanzadas y $M$ el número de agujas caidas dentro de la circunferencia el número $\\pi$ puede calcularse como:\n",
    "\n",
    "$$\\pi = \\frac{4M}{N}$$"
   ]
  },
  {
   "cell_type": "code",
   "execution_count": 2,
   "metadata": {
    "collapsed": false
   },
   "outputs": [
    {
     "data": {
      "text/plain": [
       "3.14153174"
      ]
     },
     "execution_count": 2,
     "metadata": {},
     "output_type": "execute_result"
    }
   ],
   "source": [
    "M = @parallel (+) for i=1:400000000\n",
    "    x = 2*rand() - 1\n",
    "    y = 2*rand() - 1\n",
    "    if sqrt(x^2 + y^2) <= 1\n",
    "        1\n",
    "    else\n",
    "        0\n",
    "    end\n",
    "end\n",
    "\n",
    "M / 100000000"
   ]
  },
  {
   "cell_type": "markdown",
   "metadata": {},
   "source": [
    "## Ejercicio 2\n",
    "\n",
    "Implementar la función _merge sort_ de manera paralela (la descripción de este algoritmo se encuentra en el libro _Introduction to Algorithms_)"
   ]
  },
  {
   "cell_type": "code",
   "execution_count": 3,
   "metadata": {
    "collapsed": false
   },
   "outputs": [
    {
     "data": {
      "text/plain": [
       "6-element Array{Any,1}:\n",
       "  1\n",
       "  3\n",
       "  6\n",
       "  8\n",
       " 12\n",
       " 24"
      ]
     },
     "execution_count": 3,
     "metadata": {},
     "output_type": "execute_result"
    }
   ],
   "source": [
    "@everywhere function merge(left, right)\n",
    "    result = []\n",
    "    l = 1\n",
    "    r = 1\n",
    "    while (l <= length(left)) && (r <= length(right))\n",
    "        if left[l] <= right[r]\n",
    "            push!(result, left[l])\n",
    "            l += 1\n",
    "        else\n",
    "            push!(result, right[r])\n",
    "            r += 1\n",
    "        end\n",
    "    end\n",
    "    if length(left) >= l\n",
    "        append!(result, left[l:end])\n",
    "    end\n",
    "    if length(right) >= r \n",
    "        append!(result, right[r:end])\n",
    "    end\n",
    "    result\n",
    "end\n",
    "\n",
    "@everywhere function mergesort(m)\n",
    "    if length(m) == 1\n",
    "        m\n",
    "    else\n",
    "        middle = fld(length(m), 2)\n",
    "        left = @spawn mergesort(m[1:middle])\n",
    "        right = @spawn mergesort(m[(middle + 1):end])\n",
    "        merge(fetch(left), fetch(right))\n",
    "    end\n",
    "end\n",
    "\n",
    "mergesort([1,8,24,6,12,3])"
   ]
  },
  {
   "cell_type": "markdown",
   "metadata": {},
   "source": [
    "## Ejercicio 3\n",
    "\n",
    "¿Cual de las siguientes funciones no debería usarse como función de reducción? ¿Porqué?\n",
    "\n",
    "  - suma\n",
    "  - multiplicación\n",
    "  - media aritmética\n",
    "  - máximo común divisor\n",
    "\n",
    "__R/__\n",
    "\n",
    "La única función que no cumple la propiedad asociativa es la media aritmética, a fin de cuentas el promedio de una serie de datos no es igual al promedio de sus promedios. Esto se vé más claro haciendo el siguiente cálculo:\n",
    "\n",
    "$$ma(1,2,3,4,5) = \\frac{1+2+3+4+5}{5} = 3$$\n",
    "$$ma(ma(1,2,3),ma(4,5)) = \\frac{\\frac{1+2+3}{3}+\\frac{4+5}{2}}{2} = 3.25$$"
   ]
  },
  {
   "cell_type": "markdown",
   "metadata": {},
   "source": [
    "## Ejercicio 4\n",
    "\n",
    "El número de Euler puede ser calculado como $e = \\sum_{n=0} ^ \\infty \\frac{1}{n!}$. Realizar mil operaciones por worker para calcular el número."
   ]
  },
  {
   "cell_type": "code",
   "execution_count": 5,
   "metadata": {
    "collapsed": false
   },
   "outputs": [
    {
     "data": {
      "text/plain": [
       "2.7182818284590455"
      ]
     },
     "execution_count": 5,
     "metadata": {},
     "output_type": "execute_result"
    }
   ],
   "source": [
    "@everywhere function reverseFactorial(n)\n",
    "    if n == 1\n",
    "        1\n",
    "    else\n",
    "        reverseFactorial(n-1) / n\n",
    "    end\n",
    "end\n",
    "\n",
    "euler = @parallel (+) for n=1:4000\n",
    "    reverseFactorial(n)\n",
    "end\n",
    "\n",
    "euler + 1"
   ]
  },
  {
   "cell_type": "code",
   "execution_count": null,
   "metadata": {
    "collapsed": true
   },
   "outputs": [],
   "source": []
  }
 ],
 "metadata": {
  "kernelspec": {
   "display_name": "Julia 0.4.5",
   "language": "julia",
   "name": "julia-0.4"
  },
  "language_info": {
   "file_extension": ".jl",
   "mimetype": "application/julia",
   "name": "julia",
   "version": "0.4.5"
  }
 },
 "nbformat": 4,
 "nbformat_minor": 0
}
